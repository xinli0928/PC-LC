{
 "cells": [
  {
   "cell_type": "code",
   "execution_count": null,
   "metadata": {},
   "outputs": [],
   "source": [
    "import torch\n",
    "import torch.nn as nn\n",
    "import torchvision.transforms as transforms\n",
    "from torch.utils.data import DataLoader\n",
    "from TinyImageNet import TinyImageNet\n",
    "\n",
    "from advertorch.attacks import LinfPGDAttack, GradientSignAttack, LinfBasicIterativeAttack, CarliniWagnerL2Attack, MomentumIterativeAttack, SpatialTransformAttack, LinfSPSAAttack, JacobianSaliencyMapAttack\n",
    "\n",
    "#32 by 32 image size\n",
    "#from models.vgg_adv import VGG\n",
    "\n",
    "#64 by 64 image size\n",
    "from models.vgg_tiny_adv import VGG"
   ]
  },
  {
   "cell_type": "code",
   "execution_count": null,
   "metadata": {},
   "outputs": [],
   "source": [
    "augmentation = transforms.RandomApply([\n",
    "    transforms.RandomHorizontalFlip(),\n",
    "    transforms.RandomRotation(10),\n",
    "    transforms.RandomResizedCrop(64)], p=.8)\n",
    "\n",
    "training_transform = transforms.Compose([\n",
    "    transforms.Lambda(lambda x: x.convert(\"RGB\")),\n",
    "    augmentation,\n",
    "    transforms.ToTensor()])\n",
    "\n",
    "valid_transform = transforms.Compose([\n",
    "    transforms.Lambda(lambda x: x.convert(\"RGB\")),\n",
    "    transforms.ToTensor()])\n"
   ]
  },
  {
   "cell_type": "code",
   "execution_count": null,
   "metadata": {},
   "outputs": [],
   "source": [
    "root =\"tiny-imagenet-200\"\n",
    "in_memory = False\n",
    "training_set = TinyImageNet(root, 'train', transform=training_transform, in_memory=in_memory)\n",
    "valid_set = TinyImageNet(root, 'val', transform=valid_transform, in_memory=in_memory)\n",
    "trainloader = DataLoader(training_set, batch_size=256, shuffle=True, num_workers=8,pin_memory=True)\n",
    "validloader = DataLoader(valid_set, batch_size=32, num_workers=8,pin_memory=True)"
   ]
  },
  {
   "cell_type": "code",
   "execution_count": null,
   "metadata": {},
   "outputs": [],
   "source": [
    "device = torch.device(\"cuda\")\n",
    "model = VGG('VGG13').to(device)"
   ]
  },
  {
   "cell_type": "code",
   "execution_count": null,
   "metadata": {},
   "outputs": [],
   "source": [
    "model.load_state_dict(torch.load('vgg13_model_CE.pth'))"
   ]
  },
  {
   "cell_type": "code",
   "execution_count": null,
   "metadata": {},
   "outputs": [],
   "source": [
    "pgd01 = LinfPGDAttack(\n",
    "    model, eps=0.005,\n",
    "    nb_iter=10, eps_iter=0.005/10, rand_init=True, clip_min=0.0, clip_max=1.0,\n",
    "    targeted=False)\n",
    "pgd02 = LinfPGDAttack(\n",
    "    model, eps=0.01,\n",
    "    nb_iter=10, eps_iter=0.01/10, rand_init=True, clip_min=0.0, clip_max=1.0,\n",
    "    targeted=False)\n",
    "pgd03 = LinfPGDAttack(\n",
    "    model, eps=0.015,\n",
    "    nb_iter=10, eps_iter=0.015/10, rand_init=True, clip_min=0.0, clip_max=1.0,\n",
    "    targeted=False)\n",
    "\n",
    "\n",
    "MIM1 = MomentumIterativeAttack(model,loss_fn=nn.CrossEntropyLoss(reduction=\"sum\"), eps=0.005, nb_iter=10, eps_iter=0.005/10, clip_min=0.0, clip_max=1.0, targeted=False)\n",
    "MIM2 = MomentumIterativeAttack(model,loss_fn=nn.CrossEntropyLoss(reduction=\"sum\"), eps=0.01, nb_iter=10, eps_iter=0.01/10, clip_min=0.0, clip_max=1.0, targeted=False)\n",
    "MIM3 = MomentumIterativeAttack(model,loss_fn=nn.CrossEntropyLoss(reduction=\"sum\"), eps=0.015, nb_iter=10, eps_iter=0.015/10,clip_min=0.0, clip_max=1.0, targeted=False)\n",
    "\n",
    "\n",
    "SPSA = LinfSPSAAttack(model,0.015,nb_iter=10)"
   ]
  },
  {
   "cell_type": "code",
   "execution_count": null,
   "metadata": {},
   "outputs": [],
   "source": [
    "attacks = {\n",
    "          'pgd0.1':pgd01, \n",
    "          'pgd0.2':pgd02,\n",
    "          'pgd0.3':pgd03,\n",
    "\n",
    "          'MIM0.1': MIM1,\n",
    "          'MIM0.2': MIM2,\n",
    "          'MIM0.3': MIM3,\n",
    "           'SPSA': SPSA\n",
    "           }"
   ]
  },
  {
   "cell_type": "code",
   "execution_count": null,
   "metadata": {},
   "outputs": [],
   "source": [
    "model.eval()\n",
    "for attack_name in attacks:\n",
    "    correct = 0\n",
    "    size = 0 \n",
    "    n = 0\n",
    "    for tedata, tetarget in validloader:\n",
    "        n += 1\n",
    "        size += tedata.shape[0]\n",
    "        tedata, tetarget = tedata.to(device), tetarget.to(device)\n",
    "\n",
    "        tedata = attacks[attack_name].perturb(tedata, tetarget).to(device)\n",
    "        output = model(tedata)\n",
    "        pred = output.argmax(dim=1, keepdim=True) \n",
    "        correct += pred.eq(tetarget.view_as(pred)).sum().item()\n",
    "\n",
    "    print(\"{:s} acc: {:.2f}\".format(attack_name, 100. * correct / size)) "
   ]
  },
  {
   "cell_type": "code",
   "execution_count": null,
   "metadata": {},
   "outputs": [],
   "source": [
    "model.load_state_dict(torch.load('vgg13_model_PC_loss_995.pth'))"
   ]
  },
  {
   "cell_type": "code",
   "execution_count": null,
   "metadata": {},
   "outputs": [],
   "source": [
    "attacks = {\n",
    "          'pgd0.1':pgd01, \n",
    "          'pgd0.2':pgd02,\n",
    "          'pgd0.3':pgd03,\n",
    "\n",
    "          'MIM0.1': MIM1,\n",
    "          'MIM0.2': MIM2,\n",
    "          'MIM0.3': MIM3,\n",
    "           'SPSA': SPSA\n",
    "           }"
   ]
  },
  {
   "cell_type": "code",
   "execution_count": null,
   "metadata": {},
   "outputs": [],
   "source": [
    "model.eval()\n",
    "for attack_name in attacks:\n",
    "    correct = 0\n",
    "    size = 0 \n",
    "    n = 0\n",
    "    for tedata, tetarget in validloader:\n",
    "        n += 1\n",
    "        size += tedata.shape[0]\n",
    "        tedata, tetarget = tedata.to(device), tetarget.to(device)\n",
    "\n",
    "        tedata = attacks[attack_name].perturb(tedata, tetarget).to(device)\n",
    "        output = model(tedata)\n",
    "        pred = output.argmax(dim=1, keepdim=True) \n",
    "        correct += pred.eq(tetarget.view_as(pred)).sum().item()\n",
    "\n",
    "    print(\"{:s} acc: {:.2f}\".format(attack_name, 100. * correct / size)) "
   ]
  }
 ],
 "metadata": {
  "environment": {
   "name": "tf2-2-2-gpu.2-2.m50",
   "type": "gcloud",
   "uri": "gcr.io/deeplearning-platform-release/tf2-2-2-gpu.2-2:m50"
  },
  "kernelspec": {
   "display_name": "Python 3",
   "language": "python",
   "name": "python3"
  },
  "language_info": {
   "codemirror_mode": {
    "name": "ipython",
    "version": 3
   },
   "file_extension": ".py",
   "mimetype": "text/x-python",
   "name": "python",
   "nbconvert_exporter": "python",
   "pygments_lexer": "ipython3",
   "version": "3.7.0-final"
  }
 },
 "nbformat": 4,
 "nbformat_minor": 4
}